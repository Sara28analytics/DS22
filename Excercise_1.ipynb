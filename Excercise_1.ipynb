{
  "nbformat": 4,
  "nbformat_minor": 0,
  "metadata": {
    "colab": {
      "provenance": []
    },
    "kernelspec": {
      "name": "python3",
      "display_name": "Python 3"
    },
    "language_info": {
      "name": "python"
    }
  },
  "cells": [
    {
      "cell_type": "markdown",
      "source": [
        "1. Write a Python program to count the number of even and odd numbers from a series of numbers."
      ],
      "metadata": {
        "id": "8VROBNhCdiXV"
      }
    },
    {
      "cell_type": "code",
      "source": [
        "noseries = range(1,10)\n",
        "evencnt = 0\n",
        "oddcnt = 0\n",
        "for i in noseries:\n",
        "  if (i%2==0):\n",
        "    evencnt = evencnt+1\n",
        "  else:\n",
        "    oddcnt  = oddcnt+1\n",
        "print(\"Number of even number: \",evencnt)\n",
        "print(\"Number of odd number: \",oddcnt)"
      ],
      "metadata": {
        "colab": {
          "base_uri": "https://localhost:8080/"
        },
        "id": "V2s84J9DdkPQ",
        "outputId": "7397f72f-edb9-468b-a225-6fdd62815b46"
      },
      "execution_count": null,
      "outputs": [
        {
          "output_type": "stream",
          "name": "stdout",
          "text": [
            "Number of even number:  4\n",
            "Number of odd number:  5\n"
          ]
        }
      ]
    },
    {
      "cell_type": "markdown",
      "source": [
        "2. Write a Python program to find numbers between 100 and 400 (both included) where each digit of a number is an even number. The numbers obtained should be printed in a comma-separated sequence"
      ],
      "metadata": {
        "id": "ygH65IjyeWRE"
      }
    },
    {
      "cell_type": "code",
      "source": [
        "for i in range(100,401):\n",
        "  s = str(i)\n",
        "  even = 'Y'\n",
        "  for j in s:\n",
        "    if (int(j)%2==0):\n",
        "      continue\n",
        "    else:\n",
        "      even = 'N'\n",
        "      break\n",
        "  if even == 'Y':\n",
        "    print(s,end=',' if i<400 else ' ')\n",
        "\n"
      ],
      "metadata": {
        "colab": {
          "base_uri": "https://localhost:8080/"
        },
        "id": "HdbU1cV8fOJD",
        "outputId": "906e4e5b-e69e-47e4-df2f-013c2bf8aaaa"
      },
      "execution_count": null,
      "outputs": [
        {
          "output_type": "stream",
          "name": "stdout",
          "text": [
            "200,202,204,206,208,220,222,224,226,228,240,242,244,246,248,260,262,264,266,268,280,282,284,286,288,400 "
          ]
        }
      ]
    },
    {
      "cell_type": "markdown",
      "source": [
        "3. Write a Python program to calculate a dog's age in dog's years. Go to the editor\n",
        "\n",
        "Note: For the first two years, a dog year is equal to 10.5 human years. After that, each dog year equals 4 human years."
      ],
      "metadata": {
        "id": "pwj60pLbmuA_"
      }
    },
    {
      "cell_type": "code",
      "source": [
        "dogage = int(input(\"Input a dog's age in human years:\"))\n",
        "#The dog's age in dog's years is 93\n",
        "dogyear = (10.5 * 2) + (dogage-2)*4\n",
        "print(\"The dog's age in dog's year is\",int(dogyear))"
      ],
      "metadata": {
        "colab": {
          "base_uri": "https://localhost:8080/"
        },
        "id": "tMAFAxRumxHJ",
        "outputId": "6d458c9b-4aa2-4f59-f4ba-664dfd90d548"
      },
      "execution_count": null,
      "outputs": [
        {
          "output_type": "stream",
          "name": "stdout",
          "text": [
            "Input a dog's age in human years:20\n",
            "The dog's age in dog's year is 93\n"
          ]
        }
      ]
    },
    {
      "cell_type": "markdown",
      "source": [
        "4. Write a Python function to find the Max of three numbers."
      ],
      "metadata": {
        "id": "Ljp3TzyBswI3"
      }
    },
    {
      "cell_type": "code",
      "source": [
        "inputno = (3,6,5)\n",
        "print(\"The three numbers are :\",inputno)\n",
        "#solution1\n",
        "s = sorted(inputno)\n",
        "print(s[-1])\n",
        "#solution2:\n",
        "if (inputno[0] > inputno[1]) & (inputno[0] > inputno[2]):\n",
        "  print(inputno[0])\n",
        "elif inputno[1]>inputno[2]:\n",
        "  print(inputno[1])\n",
        "else:\n",
        "  print(inputno[2])\n"
      ],
      "metadata": {
        "colab": {
          "base_uri": "https://localhost:8080/"
        },
        "id": "ra8oVlihs3FG",
        "outputId": "d6b3e523-1e32-4227-df38-f082ac122c6f"
      },
      "execution_count": null,
      "outputs": [
        {
          "output_type": "stream",
          "name": "stdout",
          "text": [
            "The three numbers are : (3, 6, 5)\n",
            "6\n",
            "6\n"
          ]
        }
      ]
    },
    {
      "cell_type": "markdown",
      "source": [
        "5. Write a Python function that takes a number as a parameter and check the number is prime or not."
      ],
      "metadata": {
        "id": "WMRv3fyPwO24"
      }
    },
    {
      "cell_type": "code",
      "source": [
        "no = int(input(\"The number is \"))\n",
        "prime = True\n",
        "for i in range(2,no):\n",
        "  if no%i==0:\n",
        "    prime = False\n",
        "    break\n",
        "  else:\n",
        "    continue\n",
        "print(prime)\n"
      ],
      "metadata": {
        "colab": {
          "base_uri": "https://localhost:8080/"
        },
        "id": "5l_zS4_nwSH9",
        "outputId": "70ae0f78-9280-41f2-f409-c9d34a2bcdb0"
      },
      "execution_count": null,
      "outputs": [
        {
          "output_type": "stream",
          "name": "stdout",
          "text": [
            "The number is 9\n",
            "False\n"
          ]
        }
      ]
    },
    {
      "cell_type": "markdown",
      "source": [
        "6. Write a Python function that accepts a string and calculate the number of upper case letters and lower case letters. Go to the editor"
      ],
      "metadata": {
        "id": "Fow30_23yQv-"
      }
    },
    {
      "cell_type": "code",
      "source": [
        "inputstr= input('Enter a string: ').replace(' ','')\n",
        "#print(''.join(inputstr.split()))\n",
        "#print(inputstr.replace(' ',''))\n",
        "\n",
        "uppercnt=0\n",
        "lowecnt=0\n",
        "for i in inputstr:\n",
        "  if i.isupper():\n",
        "    uppercnt = uppercnt + 1\n",
        "  else:\n",
        "    lowecnt = lowecnt + 1\n",
        "print(\"No. of Upper case characters :\",uppercnt)\n",
        "print(\"No. of Lower case Characters :\",lowecnt)\n",
        "\n"
      ],
      "metadata": {
        "colab": {
          "base_uri": "https://localhost:8080/"
        },
        "id": "7Nt5W2bsySBB",
        "outputId": "f2d0b9dc-8034-49b1-f4fc-de1211f2170b"
      },
      "execution_count": null,
      "outputs": [
        {
          "output_type": "stream",
          "name": "stdout",
          "text": [
            "Enter a string: Inceptz is One of The BeSt Places TO LEarn DataSciEnce\n",
            "No. of Upper case characters : 13\n",
            "No. of Lower case Characters : 32\n"
          ]
        }
      ]
    },
    {
      "cell_type": "markdown",
      "source": [
        "7. Write a Python program to reverse a string.\n"
      ],
      "metadata": {
        "id": "zg0fEQFT3ZHb"
      }
    },
    {
      "cell_type": "code",
      "source": [
        "s = '1234abcd'\n",
        "print(\"The original string is:\",s)\n",
        "print(\"The reversed string is:\",s[::-1])"
      ],
      "metadata": {
        "colab": {
          "base_uri": "https://localhost:8080/"
        },
        "id": "tjWGlzee3aa9",
        "outputId": "db146668-76d0-4523-edf1-1a869f4a6bd4"
      },
      "execution_count": null,
      "outputs": [
        {
          "output_type": "stream",
          "name": "stdout",
          "text": [
            "The original string is: 1234abcd\n",
            "The reversed string is: dcba4321\n"
          ]
        }
      ]
    },
    {
      "cell_type": "markdown",
      "source": [
        "8. Write a Python program to find the greatest common divisor (gcd) of two integers."
      ],
      "metadata": {
        "id": "1fuJcX_S4LBB"
      }
    },
    {
      "cell_type": "code",
      "source": [
        "no = eval(input(\"enter the two no:\"))\n",
        "print(\"The two numbers are :\",no)\n",
        "no1, no2 = no\n",
        "s = sorted(no)[0]\n",
        "gcd = 1\n",
        "for i in range(1,s+1):\n",
        "   if (no1%i==0) & (no2%i==0):\n",
        "       gcd = i\n",
        "   else:\n",
        "      continue\n",
        "print(\"The GCD of the numbers are: \",gcd)\n",
        "\n"
      ],
      "metadata": {
        "colab": {
          "base_uri": "https://localhost:8080/"
        },
        "id": "ZhaTNk8r4LvF",
        "outputId": "f1af8585-4049-419d-aa03-1f859abe15bf"
      },
      "execution_count": null,
      "outputs": [
        {
          "output_type": "stream",
          "name": "stdout",
          "text": [
            "enter the two no:12,14\n",
            "The two numbers are : (12, 14)\n",
            "The GCD of the numbers are:  2\n"
          ]
        }
      ]
    }
  ]
}