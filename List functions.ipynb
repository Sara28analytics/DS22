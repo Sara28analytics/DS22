{
 "cells": [
  {
   "cell_type": "code",
   "execution_count": 8,
   "id": "d311f079",
   "metadata": {},
   "outputs": [],
   "source": [
    "mylist = [1,2,3,[5,6,7,8],9,4,1,2,3,4,'Apple','Ball','Cricket',[2,3,4,[4,5,6]]]"
   ]
  },
  {
   "cell_type": "code",
   "execution_count": 9,
   "id": "4453e52b",
   "metadata": {},
   "outputs": [
    {
     "name": "stdout",
     "output_type": "stream",
     "text": [
      "[1, 2, 3, [5, 6, 7, 8], 9, 4, 1, 2, 3, 4, 'Apple', 'Ball', 'Cricket', [2, 3, 4, [4, 5, 6]]]\n"
     ]
    }
   ],
   "source": [
    "print(mylist)"
   ]
  },
  {
   "cell_type": "code",
   "execution_count": 10,
   "id": "4b1de5a4",
   "metadata": {},
   "outputs": [
    {
     "name": "stdout",
     "output_type": "stream",
     "text": [
      "Help on method_descriptor:\n",
      "\n",
      "append(self, object, /)\n",
      "    Append object to the end of the list.\n",
      "\n"
     ]
    }
   ],
   "source": [
    "help(list.append)"
   ]
  },
  {
   "cell_type": "code",
   "execution_count": 11,
   "id": "fb89e643",
   "metadata": {},
   "outputs": [
    {
     "name": "stdout",
     "output_type": "stream",
     "text": [
      "[1, 2, 3, [5, 6, 7, 8], 9, 4, 1, 2, 3, 4, 'Apple', 'Ball', 'Cricket', [2, 3, 4, [4, 5, 6]], 'Doll']\n"
     ]
    }
   ],
   "source": [
    "mylist.append('Doll')\n",
    "print(mylist)"
   ]
  },
  {
   "cell_type": "code",
   "execution_count": 13,
   "id": "2f09f0b5",
   "metadata": {},
   "outputs": [
    {
     "name": "stdout",
     "output_type": "stream",
     "text": [
      "Help on method_descriptor:\n",
      "\n",
      "copy(self, /)\n",
      "    Return a shallow copy of the list.\n",
      "\n"
     ]
    }
   ],
   "source": [
    "help(list.copy)"
   ]
  },
  {
   "cell_type": "markdown",
   "id": "77e9f91f",
   "metadata": {},
   "source": [
    "cpylist=mylist.copy()\n",
    "print(cpylist)"
   ]
  },
  {
   "cell_type": "code",
   "execution_count": 15,
   "id": "2aa57fac",
   "metadata": {},
   "outputs": [
    {
     "name": "stdout",
     "output_type": "stream",
     "text": [
      "Help on method_descriptor:\n",
      "\n",
      "count(self, value, /)\n",
      "    Return number of occurrences of value.\n",
      "\n"
     ]
    }
   ],
   "source": [
    "help(list.count)\n"
   ]
  },
  {
   "cell_type": "code",
   "execution_count": 23,
   "id": "ae18b7c4",
   "metadata": {},
   "outputs": [
    {
     "name": "stdout",
     "output_type": "stream",
     "text": [
      "0\n",
      "2\n"
     ]
    }
   ],
   "source": [
    "print(mylist.count(5))\n",
    "print(mylist.count(1))"
   ]
  },
  {
   "cell_type": "code",
   "execution_count": 24,
   "id": "cb1bfd1d",
   "metadata": {},
   "outputs": [
    {
     "name": "stdout",
     "output_type": "stream",
     "text": [
      "Help on method_descriptor:\n",
      "\n",
      "extend(self, iterable, /)\n",
      "    Extend list by appending elements from the iterable.\n",
      "\n"
     ]
    }
   ],
   "source": [
    "help(list.extend)"
   ]
  },
  {
   "cell_type": "code",
   "execution_count": 25,
   "id": "ed22e9ab",
   "metadata": {},
   "outputs": [
    {
     "name": "stdout",
     "output_type": "stream",
     "text": [
      "[1, 2, 3, [5, 6, 7, 8], 9, 4, 1, 2, 3, 4, 'Apple', 'Ball', 'Cricket', [2, 3, 4, [4, 5, 6]], 'Doll', ['window', 'mac']]\n"
     ]
    }
   ],
   "source": [
    "mylist2=['window','mac']\n",
    "mylist.append(mylist2)\n",
    "print(mylist)"
   ]
  },
  {
   "cell_type": "code",
   "execution_count": 26,
   "id": "da6e2b00",
   "metadata": {},
   "outputs": [
    {
     "name": "stdout",
     "output_type": "stream",
     "text": [
      "16\n"
     ]
    }
   ],
   "source": [
    "print(len(mylist))"
   ]
  },
  {
   "cell_type": "code",
   "execution_count": 27,
   "id": "ff2146b9",
   "metadata": {},
   "outputs": [
    {
     "name": "stdout",
     "output_type": "stream",
     "text": [
      "Help on method_descriptor:\n",
      "\n",
      "index(self, value, start=0, stop=9223372036854775807, /)\n",
      "    Return first index of value.\n",
      "    \n",
      "    Raises ValueError if the value is not present.\n",
      "\n"
     ]
    }
   ],
   "source": [
    "help(list.index)"
   ]
  },
  {
   "cell_type": "code",
   "execution_count": 29,
   "id": "31827459",
   "metadata": {},
   "outputs": [
    {
     "name": "stdout",
     "output_type": "stream",
     "text": [
      "5\n"
     ]
    },
    {
     "ename": "ValueError",
     "evalue": "100 is not in list",
     "output_type": "error",
     "traceback": [
      "\u001b[1;31m---------------------------------------------------------------------------\u001b[0m",
      "\u001b[1;31mValueError\u001b[0m                                Traceback (most recent call last)",
      "Cell \u001b[1;32mIn[29], line 2\u001b[0m\n\u001b[0;32m      1\u001b[0m \u001b[38;5;28mprint\u001b[39m(mylist\u001b[38;5;241m.\u001b[39mindex(\u001b[38;5;241m4\u001b[39m))\n\u001b[1;32m----> 2\u001b[0m \u001b[38;5;28mprint\u001b[39m(mylist\u001b[38;5;241m.\u001b[39mindex(\u001b[38;5;241m100\u001b[39m))\n",
      "\u001b[1;31mValueError\u001b[0m: 100 is not in list"
     ]
    }
   ],
   "source": [
    "print(mylist.index(4))\n",
    "print(mylist.index(100))"
   ]
  },
  {
   "cell_type": "code",
   "execution_count": 30,
   "id": "97f1df2f",
   "metadata": {},
   "outputs": [
    {
     "name": "stdout",
     "output_type": "stream",
     "text": [
      "Help on method_descriptor:\n",
      "\n",
      "insert(self, index, object, /)\n",
      "    Insert object before index.\n",
      "\n"
     ]
    }
   ],
   "source": [
    "help(list.insert)"
   ]
  },
  {
   "cell_type": "code",
   "execution_count": 31,
   "id": "1ef6954a",
   "metadata": {},
   "outputs": [
    {
     "name": "stdout",
     "output_type": "stream",
     "text": [
      "[1, 2, 3, 99, [5, 6, 7, 8], 9, 4, 1, 2, 3, 4, 'Apple', 'Ball', 'Cricket', [2, 3, 4, [4, 5, 6]], 'Doll', ['window', 'mac']]\n"
     ]
    }
   ],
   "source": [
    "mylist.insert(3,99)\n",
    "print(mylist)"
   ]
  },
  {
   "cell_type": "code",
   "execution_count": 32,
   "id": "65815662",
   "metadata": {},
   "outputs": [
    {
     "name": "stdout",
     "output_type": "stream",
     "text": [
      "Help on built-in function mro:\n",
      "\n",
      "mro() method of builtins.type instance\n",
      "    Return a type's method resolution order.\n",
      "\n"
     ]
    }
   ],
   "source": [
    "help(list.mro)"
   ]
  },
  {
   "cell_type": "code",
   "execution_count": 36,
   "id": "2b737b9c",
   "metadata": {},
   "outputs": [
    {
     "ename": "AttributeError",
     "evalue": "'list' object has no attribute 'mro'",
     "output_type": "error",
     "traceback": [
      "\u001b[1;31m---------------------------------------------------------------------------\u001b[0m",
      "\u001b[1;31mAttributeError\u001b[0m                            Traceback (most recent call last)",
      "Cell \u001b[1;32mIn[36], line 1\u001b[0m\n\u001b[1;32m----> 1\u001b[0m mylist\u001b[38;5;241m.\u001b[39mmro()\n",
      "\u001b[1;31mAttributeError\u001b[0m: 'list' object has no attribute 'mro'"
     ]
    }
   ],
   "source": [
    "mylist.mro()"
   ]
  },
  {
   "cell_type": "code",
   "execution_count": 37,
   "id": "faa90500",
   "metadata": {
    "scrolled": true
   },
   "outputs": [
    {
     "name": "stdout",
     "output_type": "stream",
     "text": [
      "Help on method_descriptor:\n",
      "\n",
      "pop(self, index=-1, /)\n",
      "    Remove and return item at index (default last).\n",
      "    \n",
      "    Raises IndexError if list is empty or index is out of range.\n",
      "\n",
      "['window', 'mac']\n",
      "[1, 2, 3, 99, [5, 6, 7, 8], 9, 4, 1, 2, 3, 4, 'Apple', 'Ball', 'Cricket', [2, 3, 4, [4, 5, 6]], 'Doll']\n"
     ]
    }
   ],
   "source": [
    "help(list.pop)\n",
    "print(mylist.pop())\n",
    "print(mylist)\n"
   ]
  },
  {
   "cell_type": "code",
   "execution_count": 38,
   "id": "3a50f0aa",
   "metadata": {},
   "outputs": [
    {
     "name": "stdout",
     "output_type": "stream",
     "text": [
      "Help on method_descriptor:\n",
      "\n",
      "remove(self, value, /)\n",
      "    Remove first occurrence of value.\n",
      "    \n",
      "    Raises ValueError if the value is not present.\n",
      "\n"
     ]
    }
   ],
   "source": [
    "help(list.remove)"
   ]
  },
  {
   "cell_type": "code",
   "execution_count": 39,
   "id": "2f54e3e9",
   "metadata": {},
   "outputs": [
    {
     "name": "stdout",
     "output_type": "stream",
     "text": [
      "None\n"
     ]
    }
   ],
   "source": [
    "print(mylist.remove(3))"
   ]
  },
  {
   "cell_type": "code",
   "execution_count": 40,
   "id": "abbf0c90",
   "metadata": {},
   "outputs": [
    {
     "name": "stdout",
     "output_type": "stream",
     "text": [
      "[1, 2, 99, [5, 6, 7, 8], 9, 4, 1, 2, 3, 4, 'Apple', 'Ball', 'Cricket', [2, 3, 4, [4, 5, 6]], 'Doll']\n"
     ]
    }
   ],
   "source": [
    "print(mylist)"
   ]
  },
  {
   "cell_type": "code",
   "execution_count": 41,
   "id": "1d409217",
   "metadata": {
    "scrolled": true
   },
   "outputs": [
    {
     "name": "stdout",
     "output_type": "stream",
     "text": [
      "Help on method_descriptor:\n",
      "\n",
      "reverse(self, /)\n",
      "    Reverse *IN PLACE*.\n",
      "\n"
     ]
    }
   ],
   "source": [
    "help(list.reverse)\n"
   ]
  },
  {
   "cell_type": "code",
   "execution_count": 42,
   "id": "3d501335",
   "metadata": {},
   "outputs": [
    {
     "name": "stdout",
     "output_type": "stream",
     "text": [
      "['Doll', [2, 3, 4, [4, 5, 6]], 'Cricket', 'Ball', 'Apple', 4, 3, 2, 1, 4, 9, [5, 6, 7, 8], 99, 2, 1]\n"
     ]
    }
   ],
   "source": [
    "mylist.reverse()\n",
    "print(mylist)"
   ]
  },
  {
   "cell_type": "code",
   "execution_count": 51,
   "id": "3e00c972",
   "metadata": {},
   "outputs": [
    {
     "name": "stdout",
     "output_type": "stream",
     "text": [
      "['Doll', [2, 3, 4, [4, 5, 6]], 'Cricket', 'Ball', 'Apple', 4, 3, 2, 1, 4, 9, [5, 6, 7, 8], 99, 2, 1]\n",
      "None\n",
      "[1, 2, 99, [5, 6, 7, 8], 9, 4, 1, 2, 3, 4, 'Apple', 'Ball', 'Cricket', [2, 3, 4, [4, 5, 6]], 'Doll']\n"
     ]
    }
   ],
   "source": [
    "print(mylist)\n",
    "revlist = mylist.reverse()\n",
    "print(revlist)\n",
    "print(mylist)"
   ]
  },
  {
   "cell_type": "code",
   "execution_count": 52,
   "id": "9d282602",
   "metadata": {},
   "outputs": [
    {
     "name": "stdout",
     "output_type": "stream",
     "text": [
      "Help on method_descriptor:\n",
      "\n",
      "sort(self, /, *, key=None, reverse=False)\n",
      "    Sort the list in ascending order and return None.\n",
      "    \n",
      "    The sort is in-place (i.e. the list itself is modified) and stable (i.e. the\n",
      "    order of two equal elements is maintained).\n",
      "    \n",
      "    If a key function is given, apply it once to each list item and sort them,\n",
      "    ascending or descending, according to their function values.\n",
      "    \n",
      "    The reverse flag can be set to sort in descending order.\n",
      "\n"
     ]
    }
   ],
   "source": [
    "help(list.sort)\n"
   ]
  },
  {
   "cell_type": "code",
   "execution_count": 54,
   "id": "168d7015",
   "metadata": {},
   "outputs": [
    {
     "name": "stdout",
     "output_type": "stream",
     "text": [
      "[1, 2, 99, [5, 6, 7, 8], 9, 4, 1, 2, 3, 4, 'Apple', 'Ball', 'Cricket', [2, 3, 4, [4, 5, 6]], 'Doll']\n"
     ]
    },
    {
     "ename": "TypeError",
     "evalue": "'<' not supported between instances of 'list' and 'int'",
     "output_type": "error",
     "traceback": [
      "\u001b[1;31m---------------------------------------------------------------------------\u001b[0m",
      "\u001b[1;31mTypeError\u001b[0m                                 Traceback (most recent call last)",
      "Cell \u001b[1;32mIn[54], line 2\u001b[0m\n\u001b[0;32m      1\u001b[0m \u001b[38;5;28mprint\u001b[39m(mylist)\n\u001b[1;32m----> 2\u001b[0m sortlist \u001b[38;5;241m=\u001b[39m mylist\u001b[38;5;241m.\u001b[39msort()\n\u001b[0;32m      3\u001b[0m \u001b[38;5;28mprint\u001b[39m(sortlist)\n\u001b[0;32m      4\u001b[0m \u001b[38;5;28mprint\u001b[39m(mylist)\n",
      "\u001b[1;31mTypeError\u001b[0m: '<' not supported between instances of 'list' and 'int'"
     ]
    }
   ],
   "source": [
    "print(mylist)\n",
    "sortlist = mylist.sort()\n",
    "print(sortlist)\n",
    "print(mylist)"
   ]
  },
  {
   "cell_type": "code",
   "execution_count": 57,
   "id": "83ec0a81",
   "metadata": {},
   "outputs": [
    {
     "name": "stdout",
     "output_type": "stream",
     "text": [
      "[1, 9, 4, 5, 2, 8]\n",
      "[1, 2, 4, 5, 8, 9]\n",
      "None\n"
     ]
    }
   ],
   "source": [
    "mylist22=[1,9,4,5,2,8]\n",
    "print(mylist22)\n",
    "mylist22srt = mylist22.sort()\n",
    "\n",
    "print(mylist22)\n",
    "print(mylist22srt)"
   ]
  },
  {
   "cell_type": "code",
   "execution_count": null,
   "id": "7ea9d2d3",
   "metadata": {},
   "outputs": [],
   "source": []
  }
 ],
 "metadata": {
  "kernelspec": {
   "display_name": "Python 3 (ipykernel)",
   "language": "python",
   "name": "python3"
  },
  "language_info": {
   "codemirror_mode": {
    "name": "ipython",
    "version": 3
   },
   "file_extension": ".py",
   "mimetype": "text/x-python",
   "name": "python",
   "nbconvert_exporter": "python",
   "pygments_lexer": "ipython3",
   "version": "3.11.5"
  }
 },
 "nbformat": 4,
 "nbformat_minor": 5
}
